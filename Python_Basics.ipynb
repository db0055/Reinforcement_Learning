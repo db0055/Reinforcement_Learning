{
  "nbformat": 4,
  "nbformat_minor": 0,
  "metadata": {
    "colab": {
      "provenance": [],
      "authorship_tag": "ABX9TyO1w+rW6ivcxFdcvmp4fmzJ",
      "include_colab_link": true
    },
    "kernelspec": {
      "name": "python3",
      "display_name": "Python 3"
    },
    "language_info": {
      "name": "python"
    }
  },
  "cells": [
    {
      "cell_type": "markdown",
      "metadata": {
        "id": "view-in-github",
        "colab_type": "text"
      },
      "source": [
        "<a href=\"https://colab.research.google.com/github/db0055/Reinforcement_Learning/blob/main/Python_Basics.ipynb\" target=\"_parent\"><img src=\"https://colab.research.google.com/assets/colab-badge.svg\" alt=\"Open In Colab\"/></a>"
      ]
    },
    {
      "cell_type": "code",
      "source": [
        "x = 1\n",
        "y = 0\n",
        "print(x and y)"
      ],
      "metadata": {
        "colab": {
          "base_uri": "https://localhost:8080/"
        },
        "id": "zaHQ_fnxDVtY",
        "outputId": "a882b1eb-cfc9-455c-a20d-7d05c61daaf0"
      },
      "execution_count": 7,
      "outputs": [
        {
          "output_type": "stream",
          "name": "stdout",
          "text": [
            "0\n"
          ]
        }
      ]
    },
    {
      "cell_type": "code",
      "source": [
        "s = \"hello\"\n",
        "print(s.rjust(7))\n",
        "print(s.center(7))\n",
        "print(s.upper())\n",
        "print(s.capitalize())\n",
        "print(s.replace('l', '(ell)'))\n",
        "print('  world '.strip())"
      ],
      "metadata": {
        "colab": {
          "base_uri": "https://localhost:8080/"
        },
        "id": "32xtFlzlIHqf",
        "outputId": "a0173048-512f-465f-fa04-97ac16317161"
      },
      "execution_count": 14,
      "outputs": [
        {
          "output_type": "stream",
          "name": "stdout",
          "text": [
            "  hello\n",
            " hello \n",
            "HELLO\n",
            "Hello\n",
            "he(ell)(ell)o\n",
            "world\n"
          ]
        }
      ]
    },
    {
      "cell_type": "code",
      "source": [
        "xs = [100, 6, 8, 300 ]\n",
        "print(xs, xs[1])\n",
        "print(xs[-2])\n",
        "xs[2] = 'abc'\n",
        "print(xs)\n",
        "xs.append('hello')\n",
        "print(xs)\n",
        "x = xs.pop()\n",
        "print(x, xs)"
      ],
      "metadata": {
        "colab": {
          "base_uri": "https://localhost:8080/"
        },
        "id": "pOda1trBJTYt",
        "outputId": "549884c3-0ad8-4a9a-8648-fac26d37845e"
      },
      "execution_count": 25,
      "outputs": [
        {
          "output_type": "stream",
          "name": "stdout",
          "text": [
            "[100, 6, 8, 300] 6\n",
            "8\n",
            "[100, 6, 'abc', 300]\n",
            "[100, 6, 'abc', 300, 'hello']\n",
            "hello [100, 6, 'abc', 300]\n"
          ]
        }
      ]
    },
    {
      "cell_type": "code",
      "source": [
        "y = list(range(10))\n",
        "print(y)\n",
        "print(y[5:7])\n",
        "print(y[5:])\n",
        "print(y[:7])\n",
        "\n",
        "\n"
      ],
      "metadata": {
        "colab": {
          "base_uri": "https://localhost:8080/"
        },
        "id": "5UOt2WUKMB9c",
        "outputId": "d8f4c709-ddf3-4399-a81b-76275432ab9f"
      },
      "execution_count": 31,
      "outputs": [
        {
          "output_type": "stream",
          "name": "stdout",
          "text": [
            "[0, 1, 2, 3, 4, 5, 6, 7, 8, 9]\n",
            "[5, 6]\n",
            "[5, 6, 7, 8, 9]\n",
            "[0, 1, 2, 3, 4, 5, 6]\n"
          ]
        }
      ]
    },
    {
      "cell_type": "code",
      "source": [
        "subs = ['deca', 'cn','ds','python']\n",
        "for subs in subs:\n",
        "  print(subs)"
      ],
      "metadata": {
        "colab": {
          "base_uri": "https://localhost:8080/"
        },
        "id": "BgJga5hUNS96",
        "outputId": "8bb84deb-de53-43fb-f237-76d20639ef74"
      },
      "execution_count": 32,
      "outputs": [
        {
          "output_type": "stream",
          "name": "stdout",
          "text": [
            "deca\n",
            "cn\n",
            "ds\n",
            "python\n"
          ]
        }
      ]
    },
    {
      "cell_type": "code",
      "source": [
        "subs = ['deca', 'cn','ds','python']\n",
        "for idx, subs in enumerate(subs):\n",
        "  print('#%d:%s'%(idx+1,subs))"
      ],
      "metadata": {
        "colab": {
          "base_uri": "https://localhost:8080/"
        },
        "id": "us_Dh6ppN1QJ",
        "outputId": "ba3eeef6-eefb-4de5-f070-2c94beb2fb1f"
      },
      "execution_count": 33,
      "outputs": [
        {
          "output_type": "stream",
          "name": "stdout",
          "text": [
            "#1:deca\n",
            "#2:cn\n",
            "#3:ds\n",
            "#4:python\n"
          ]
        }
      ]
    },
    {
      "cell_type": "code",
      "source": [
        "x = [10,11,12,13,14,15]\n",
        "squares = []\n",
        "for y in x :\n",
        "  squares.append(y ** 2)\n",
        "  print(squares)\n",
        ""
      ],
      "metadata": {
        "colab": {
          "base_uri": "https://localhost:8080/"
        },
        "id": "P3n3RjNVObLD",
        "outputId": "fc3eee72-baa1-4763-e346-61b1e03180d9"
      },
      "execution_count": 34,
      "outputs": [
        {
          "output_type": "stream",
          "name": "stdout",
          "text": [
            "[100]\n",
            "[100, 121]\n",
            "[100, 121, 144]\n",
            "[100, 121, 144, 169]\n",
            "[100, 121, 144, 169, 196]\n",
            "[100, 121, 144, 169, 196, 225]\n"
          ]
        }
      ]
    },
    {
      "cell_type": "code",
      "source": [
        "a = {'cat': 'cute','dog': 'furry'}\n",
        "print(a['cat'])\n",
        "print('cat'in a)\n",
        "a['fish'] = 'wet'\n",
        "print(a['fish'])\n",
        "print(a.get('tiger', 'N/A'))"
      ],
      "metadata": {
        "colab": {
          "base_uri": "https://localhost:8080/"
        },
        "id": "eE8BMBQ_QArV",
        "outputId": "aae3748c-eb6c-4ad3-c2e4-08c12c848268"
      },
      "execution_count": 40,
      "outputs": [
        {
          "output_type": "stream",
          "name": "stdout",
          "text": [
            "cute\n",
            "True\n",
            "wet\n",
            "N/A\n"
          ]
        }
      ]
    }
  ]
}